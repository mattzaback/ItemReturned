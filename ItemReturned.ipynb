{
 "cells": [
  {
   "cell_type": "markdown",
   "id": "2862719b",
   "metadata": {},
   "source": [
    "# Introduction\n",
    "It is important for businesses to know how to market their products to the right people, in the right place, at the right time, and using data about the customer and their order we can do this more effectively.\n",
    "\n",
    "We are given a dataset that includes orders with customer details, and whether or not the product was returned. The goal of this notebook is to predict the probability that a future item that is ordered will result in being returned."
   ]
  },
  {
   "cell_type": "markdown",
   "id": "7547b8da",
   "metadata": {},
   "source": [
    "# Exploratory Data Analysis"
   ]
  },
  {
   "cell_type": "code",
   "execution_count": 2,
   "id": "707cfd2c",
   "metadata": {},
   "outputs": [
    {
     "data": {
      "text/html": [
       "<div>\n",
       "<style scoped>\n",
       "    .dataframe tbody tr th:only-of-type {\n",
       "        vertical-align: middle;\n",
       "    }\n",
       "\n",
       "    .dataframe tbody tr th {\n",
       "        vertical-align: top;\n",
       "    }\n",
       "\n",
       "    .dataframe thead th {\n",
       "        text-align: right;\n",
       "    }\n",
       "</style>\n",
       "<table border=\"1\" class=\"dataframe\">\n",
       "  <thead>\n",
       "    <tr style=\"text-align: right;\">\n",
       "      <th></th>\n",
       "      <th>ID</th>\n",
       "      <th>OrderID</th>\n",
       "      <th>CustomerID</th>\n",
       "      <th>CustomerState</th>\n",
       "      <th>CustomerBirthDate</th>\n",
       "      <th>OrderDate</th>\n",
       "      <th>ProductDepartment</th>\n",
       "      <th>ProductSize</th>\n",
       "      <th>ProductCost</th>\n",
       "      <th>DiscountPct</th>\n",
       "      <th>PurchasePrice</th>\n",
       "      <th>Returned</th>\n",
       "    </tr>\n",
       "  </thead>\n",
       "  <tbody>\n",
       "    <tr>\n",
       "      <th>0</th>\n",
       "      <td>58334388-e72d-40d3-afcf-59561c262e86</td>\n",
       "      <td>4fc2f4ea-7098-4e9d-87b1-52b6a9ee21fd</td>\n",
       "      <td>c401d50e-37b7-45ea-801a-d71c13ea6387</td>\n",
       "      <td>Kentucky</td>\n",
       "      <td>1967-01-06</td>\n",
       "      <td>2016-01-06</td>\n",
       "      <td>Youth</td>\n",
       "      <td>M</td>\n",
       "      <td>9</td>\n",
       "      <td>0.0356</td>\n",
       "      <td>28.93</td>\n",
       "      <td>0</td>\n",
       "    </tr>\n",
       "    <tr>\n",
       "      <th>1</th>\n",
       "      <td>fb73c186-ca70-4eea-b80e-422d732205aa</td>\n",
       "      <td>4fc2f4ea-7098-4e9d-87b1-52b6a9ee21fd</td>\n",
       "      <td>c401d50e-37b7-45ea-801a-d71c13ea6387</td>\n",
       "      <td>Kentucky</td>\n",
       "      <td>1967-01-06</td>\n",
       "      <td>2016-01-06</td>\n",
       "      <td>Mens</td>\n",
       "      <td>L</td>\n",
       "      <td>17</td>\n",
       "      <td>0.1192</td>\n",
       "      <td>44.92</td>\n",
       "      <td>0</td>\n",
       "    </tr>\n",
       "    <tr>\n",
       "      <th>2</th>\n",
       "      <td>7590dca6-7344-4a11-ad6e-bd9100730c33</td>\n",
       "      <td>4fc2f4ea-7098-4e9d-87b1-52b6a9ee21fd</td>\n",
       "      <td>c401d50e-37b7-45ea-801a-d71c13ea6387</td>\n",
       "      <td>Kentucky</td>\n",
       "      <td>1967-01-06</td>\n",
       "      <td>2016-01-06</td>\n",
       "      <td>Mens</td>\n",
       "      <td>XL</td>\n",
       "      <td>20</td>\n",
       "      <td>0.1698</td>\n",
       "      <td>48.98</td>\n",
       "      <td>0</td>\n",
       "    </tr>\n",
       "    <tr>\n",
       "      <th>3</th>\n",
       "      <td>cb8cf8da-ef31-4b6f-b515-3a7f75d17d0f</td>\n",
       "      <td>4fc2f4ea-7098-4e9d-87b1-52b6a9ee21fd</td>\n",
       "      <td>c401d50e-37b7-45ea-801a-d71c13ea6387</td>\n",
       "      <td>Kentucky</td>\n",
       "      <td>1967-01-06</td>\n",
       "      <td>2016-01-06</td>\n",
       "      <td>Mens</td>\n",
       "      <td>L</td>\n",
       "      <td>17</td>\n",
       "      <td>0.1973</td>\n",
       "      <td>51.37</td>\n",
       "      <td>0</td>\n",
       "    </tr>\n",
       "    <tr>\n",
       "      <th>4</th>\n",
       "      <td>b7d5f19d-ebf0-48c1-afb2-4f066cb5f04e</td>\n",
       "      <td>ce1867af-0846-4352-bdda-465e88c2c2ed</td>\n",
       "      <td>19c8c37f-d1ab-488e-848c-c28ba9c5d80c</td>\n",
       "      <td>Indiana</td>\n",
       "      <td>1979-01-11</td>\n",
       "      <td>2016-01-11</td>\n",
       "      <td>Womens</td>\n",
       "      <td>XS</td>\n",
       "      <td>42</td>\n",
       "      <td>0.0663</td>\n",
       "      <td>113.91</td>\n",
       "      <td>0</td>\n",
       "    </tr>\n",
       "  </tbody>\n",
       "</table>\n",
       "</div>"
      ],
      "text/plain": [
       "                                     ID                               OrderID  \\\n",
       "0  58334388-e72d-40d3-afcf-59561c262e86  4fc2f4ea-7098-4e9d-87b1-52b6a9ee21fd   \n",
       "1  fb73c186-ca70-4eea-b80e-422d732205aa  4fc2f4ea-7098-4e9d-87b1-52b6a9ee21fd   \n",
       "2  7590dca6-7344-4a11-ad6e-bd9100730c33  4fc2f4ea-7098-4e9d-87b1-52b6a9ee21fd   \n",
       "3  cb8cf8da-ef31-4b6f-b515-3a7f75d17d0f  4fc2f4ea-7098-4e9d-87b1-52b6a9ee21fd   \n",
       "4  b7d5f19d-ebf0-48c1-afb2-4f066cb5f04e  ce1867af-0846-4352-bdda-465e88c2c2ed   \n",
       "\n",
       "                             CustomerID CustomerState CustomerBirthDate  \\\n",
       "0  c401d50e-37b7-45ea-801a-d71c13ea6387      Kentucky        1967-01-06   \n",
       "1  c401d50e-37b7-45ea-801a-d71c13ea6387      Kentucky        1967-01-06   \n",
       "2  c401d50e-37b7-45ea-801a-d71c13ea6387      Kentucky        1967-01-06   \n",
       "3  c401d50e-37b7-45ea-801a-d71c13ea6387      Kentucky        1967-01-06   \n",
       "4  19c8c37f-d1ab-488e-848c-c28ba9c5d80c       Indiana        1979-01-11   \n",
       "\n",
       "    OrderDate ProductDepartment ProductSize  ProductCost  DiscountPct  \\\n",
       "0  2016-01-06             Youth           M            9       0.0356   \n",
       "1  2016-01-06              Mens           L           17       0.1192   \n",
       "2  2016-01-06              Mens          XL           20       0.1698   \n",
       "3  2016-01-06              Mens           L           17       0.1973   \n",
       "4  2016-01-11            Womens          XS           42       0.0663   \n",
       "\n",
       "   PurchasePrice  Returned  \n",
       "0          28.93         0  \n",
       "1          44.92         0  \n",
       "2          48.98         0  \n",
       "3          51.37         0  \n",
       "4         113.91         0  "
      ]
     },
     "execution_count": 2,
     "metadata": {},
     "output_type": "execute_result"
    }
   ],
   "source": [
    "#Relative imports of packages and data\n",
    "\n",
    "import pandas as pd\n",
    "import numpy as np\n",
    "import matplotlib.pyplot as plt\n",
    "from matplotlib.pyplot import figure\n",
    "from datetime import datetime\n",
    "from dateutil.relativedelta import relativedelta\n",
    "import seaborn as sns\n",
    "train = pd.read_csv(\"Downloads/Transactions/Transactions/train.csv\")\n",
    "test = pd.read_csv(\"Downloads/Transactions/Transactions/test.csv\")\n",
    "\n",
    "#Lets look at the data\n",
    "train.head()"
   ]
  },
  {
   "cell_type": "markdown",
   "id": "424d19e8",
   "metadata": {},
   "source": [
    "Our goal is to see what gets returned. Let's look at general stats about returns and how they relate to the other variables."
   ]
  },
  {
   "cell_type": "code",
   "execution_count": 3,
   "id": "b1661fac",
   "metadata": {},
   "outputs": [
    {
     "data": {
      "text/plain": [
       "0.35243098348533397"
      ]
     },
     "metadata": {},
     "output_type": "display_data"
    }
   ],
   "source": [
    "#Total rate of items in the dataset that have been returned\n",
    "returns = train['Returned'].sum()\n",
    "display(returns/len(train.index))"
   ]
  },
  {
   "cell_type": "markdown",
   "id": "a04b8677",
   "metadata": {},
   "source": [
    "### For the data we have - About 35% of the items that are ordered get returned."
   ]
  },
  {
   "cell_type": "code",
   "execution_count": 7,
   "id": "24619d74",
   "metadata": {},
   "outputs": [
    {
     "data": {
      "text/plain": [
       "<AxesSubplot:xlabel='bin', ylabel='NumReturns'>"
      ]
     },
     "execution_count": 7,
     "metadata": {},
     "output_type": "execute_result"
    },
    {
     "data": {
      "image/png": "[encoded data removed]",
      "text/plain": [
       "<Figure size 432x288 with 1 Axes>"
      ]
     },
     "metadata": {
      "needs_background": "light"
     },
     "output_type": "display_data"
    }
   ],
   "source": [
    "#Add age as a variable\n",
    "train['OrderDate']= pd.to_datetime(train['OrderDate'])\n",
    "train['CustomerBirthDate']= pd.to_datetime(train['CustomerBirthDate'])\n",
    "train['Age'] = train['OrderDate'] - train['CustomerBirthDate']\n",
    "train['Age'] = train['Age'] / np.timedelta64(1, 'Y')\n",
    "train['Age'] = train['Age'].astype('int')\n",
    "\n",
    "#Visualize ages and the amount they return by group\n",
    "age_counts = train[\"Age\"].value_counts()\n",
    "age_counts = age_counts.to_frame().reset_index()\n",
    "age_counts = age_counts.rename(columns={\"Age\": \"NumReturns\", 'index': 'Age'})\n",
    "\n",
    "age_counts['bin'] = pd.cut(age_counts['Age'], bins=range(0,91,10), labels=[f'{l}-{l+10}' for l in range(0,81,10)])\n",
    "age_counts.head()\n",
    "sns.barplot(x='bin', y='NumReturns', data=age_counts)"
   ]
  },
  {
   "cell_type": "markdown",
   "id": "5a6008be",
   "metadata": {},
   "source": [
    "Let's look at returns by state as well."
   ]
  },
  {
   "cell_type": "code",
   "execution_count": 10,
   "id": "74e17759",
   "metadata": {},
   "outputs": [
    {
     "data": {
      "image/png": "[encoded data removed]",
      "text/plain": [
       "<Figure size 1800x360 with 1 Axes>"
      ]
     },
     "metadata": {
      "needs_background": "light"
     },
     "output_type": "display_data"
    },
    {
     "data": {
      "image/png": "[encoded data removed]",
      "text/plain": [
       "<Figure size 1800x360 with 1 Axes>"
      ]
     },
     "metadata": {
      "needs_background": "light"
     },
     "output_type": "display_data"
    }
   ],
   "source": [
    "df = train.groupby('CustomerState').sum().reset_index()\n",
    "\n",
    "totals = train['CustomerState'].value_counts()\n",
    "totals = totals.to_frame()\n",
    "totals = totals.reset_index()\n",
    "\n",
    "totals = totals.rename(columns={\"CustomerState\": \"Total\", 'index': 'CustomerState'})\n",
    "totals = totals.sort_values('CustomerState')\n",
    "totals = totals.reset_index()\n",
    "\n",
    "\n",
    "df['PercentReturned'] = df['Returned']/totals['Total'] * 100\n",
    "\n",
    "#Visualize the data compared to other states\n",
    "df.plot(kind = 'bar', x = 'CustomerState', y = 'Returned')\n",
    "df.plot(kind = 'bar', x = 'CustomerState', y = 'PercentReturned')\n",
    "plt.rcParams['figure.figsize'] = [15, 5]"
   ]
  },
  {
   "cell_type": "markdown",
   "id": "b734c66a",
   "metadata": {},
   "source": [
    "There doesn't seem to be much difference state to state on how much people return items. Maybe less so in Alaska because of location."
   ]
  },
  {
   "cell_type": "code",
   "execution_count": 11,
   "id": "dde1cfde",
   "metadata": {},
   "outputs": [
    {
     "data": {
      "text/plain": [
       "<AxesSubplot:xlabel='ProductDepartment'>"
      ]
     },
     "execution_count": 11,
     "metadata": {},
     "output_type": "execute_result"
    },
    {
     "data": {
      "image/png": "[encoded data removed]",
      "text/plain": [
       "<Figure size 1080x360 with 1 Axes>"
      ]
     },
     "metadata": {
      "needs_background": "light"
     },
     "output_type": "display_data"
    }
   ],
   "source": [
    "#Lets look at returns by product department\n",
    "\n",
    "df1 = train.groupby('ProductDepartment').sum().reset_index()\n",
    "df1.plot(kind = 'bar', x = 'ProductDepartment', y = 'Returned')"
   ]
  },
  {
   "cell_type": "code",
   "execution_count": 12,
   "id": "a7dd0218",
   "metadata": {},
   "outputs": [
    {
     "data": {
      "text/plain": [
       "<AxesSubplot:xlabel='ProductSize'>"
      ]
     },
     "execution_count": 12,
     "metadata": {},
     "output_type": "execute_result"
    },
    {
     "data": {
      "image/png": "[encoded data removed]",
      "text/plain": [
       "<Figure size 1080x360 with 1 Axes>"
      ]
     },
     "metadata": {
      "needs_background": "light"
     },
     "output_type": "display_data"
    }
   ],
   "source": [
    "# lets look at returns by product size\n",
    "\n",
    "df2 = train.groupby('ProductSize').sum().reset_index()\n",
    "df2.plot(kind = 'bar', x = 'ProductSize', y = 'Returned')"
   ]
  },
  {
   "cell_type": "code",
   "execution_count": 13,
   "id": "50136543",
   "metadata": {},
   "outputs": [
    {
     "data": {
      "image/png": "[encoded data removed]",
      "text/plain": [
       "<Figure size 1080x360 with 1 Axes>"
      ]
     },
     "metadata": {
      "needs_background": "light"
     },
     "output_type": "display_data"
    }
   ],
   "source": [
    "#Lets look at returns by price range\n",
    "\n",
    "df3 = train\n",
    "df3['PurchasePrice'] = df3['PurchasePrice'].astype('int')\n",
    "df3 =df3.groupby('PurchasePrice').sum().reset_index()\n",
    "\n",
    "bins= [0,20,40,60,80,100,120,140,160,180,200,220,240,260,280,300,320,340,360,380,400]\n",
    "plt.hist(df3['Returned'].values, bins=bins, edgecolor=\"k\")\n",
    "plt.xticks(bins)\n",
    "\n",
    "plt.show()"
   ]
  },
  {
   "cell_type": "code",
   "execution_count": 18,
   "id": "3814cb8f",
   "metadata": {},
   "outputs": [
    {
     "data": {
      "image/png": "[encoded data removed]",
      "text/plain": [
       "<Figure size 1080x360 with 1 Axes>"
      ]
     },
     "metadata": {
      "needs_background": "light"
     },
     "output_type": "display_data"
    }
   ],
   "source": [
    "#Lets look at the rate of return by month\n",
    "\n",
    "df4 = train\n",
    "df4 = df4.groupby([df4['OrderDate'].dt.month]).agg (sum_returns_month = ('Returned' , 'sum'))\n",
    "df4 = df4.reset_index()\n",
    "\n",
    "df5 = train\n",
    "df5 = df5['OrderDate'].groupby([df5['OrderDate'].dt.month]).agg('count')\n",
    "df5 = df5.to_frame()\n",
    "\n",
    "#Add column return rate\n",
    "df5['ReturnRate'] = df4['sum_returns_month'] / df5['OrderDate']\n",
    "\n",
    "#Plot graph\n",
    "plt.plot(df4['OrderDate'], df5['ReturnRate'])\n",
    "plt.xlabel('Month')\n",
    "plt.ylabel('Return Rate')\n",
    "plt.show()"
   ]
  },
  {
   "cell_type": "markdown",
   "id": "667525e2",
   "metadata": {},
   "source": [
    "It seems people return things more during October, November, December and April as well."
   ]
  },
  {
   "cell_type": "code",
   "execution_count": 3,
   "id": "211e40fb",
   "metadata": {},
   "outputs": [
    {
     "data": {
      "text/plain": [
       "<AxesSubplot:xlabel='bin', ylabel='Returned'>"
      ]
     },
     "execution_count": 3,
     "metadata": {},
     "output_type": "execute_result"
    },
    {
     "data": {
      "image/png": "[encoded data removed]",
      "text/plain": [
       "<Figure size 432x288 with 1 Axes>"
      ]
     },
     "metadata": {
      "needs_background": "light"
     },
     "output_type": "display_data"
    }
   ],
   "source": [
    "#Lets look at returns by product cost\n",
    "\n",
    "productcost_counts = train.groupby('ProductCost').sum().reset_index()\n",
    "productcost_counts['bin'] = pd.cut(productcost_counts['ProductCost'], bins=range(0,71,10), labels=[f'{l}-{l+10}' for l in range(0,61,10)])\n",
    "sns.barplot(x='bin', y='Returned', data=productcost_counts)"
   ]
  },
  {
   "cell_type": "code",
   "execution_count": 4,
   "id": "afbbba2b",
   "metadata": {},
   "outputs": [
    {
     "data": {
      "text/plain": [
       "<AxesSubplot:xlabel='bin', ylabel='Returned'>"
      ]
     },
     "execution_count": 4,
     "metadata": {},
     "output_type": "execute_result"
    },
    {
     "data": {
      "image/png": "[encoded data removed]",
      "text/plain": [
       "<Figure size 432x288 with 1 Axes>"
      ]
     },
     "metadata": {
      "needs_background": "light"
     },
     "output_type": "display_data"
    }
   ],
   "source": [
    "#Lets also look at discount percentages and returns\n",
    "\n",
    "discountpct_counts = train.groupby('DiscountPct').sum().reset_index()\n",
    "discountpct_counts['DiscountPct'] = discountpct_counts['DiscountPct'] *100\n",
    "discountpct_counts['bin'] = pd.cut(discountpct_counts['DiscountPct'], bins=range(0,41,5), labels=[f'{l}-{l+5}' for l in range(0,36,5)])\n",
    "sns.barplot(x='bin', y='Returned', data=discountpct_counts)"
   ]
  },
  {
   "cell_type": "markdown",
   "id": "543a075d",
   "metadata": {},
   "source": [
    "# Feature selection and engineering"
   ]
  },
  {
   "cell_type": "markdown",
   "id": "8ce856ba",
   "metadata": {},
   "source": [
    "We need to select the features that will be relevant for making our building an accurate model. Since the rate of return by state is almost equal for every state, it doesn't seem to be an important variable. However the month it was ordered and the product cost seem to be more telling of whether an item will be returned. Also if it is a mens or womens product that is Medium or Large, it has a higher chance of being returned, most likely because these are the most ordered items and people don't know their sizes when ordering online."
   ]
  },
  {
   "cell_type": "code",
   "execution_count": 5,
   "id": "1033d8fe",
   "metadata": {},
   "outputs": [
    {
     "data": {
      "text/plain": [
       "ProductCost      0.06\n",
       "DiscountPct     -0.01\n",
       "PurchasePrice    0.08\n",
       "Returned         1.00\n",
       "Name: Returned, dtype: float64"
      ]
     },
     "metadata": {},
     "output_type": "display_data"
    }
   ],
   "source": [
    "#Quick look at correlations\n",
    "\n",
    "corrs = round(train.corr(), 2)\n",
    "display(corrs['Returned'])"
   ]
  },
  {
   "cell_type": "code",
   "execution_count": 8,
   "id": "8b1d7398",
   "metadata": {},
   "outputs": [
    {
     "data": {
      "text/html": [
       "<div>\n",
       "<style scoped>\n",
       "    .dataframe tbody tr th:only-of-type {\n",
       "        vertical-align: middle;\n",
       "    }\n",
       "\n",
       "    .dataframe tbody tr th {\n",
       "        vertical-align: top;\n",
       "    }\n",
       "\n",
       "    .dataframe thead th {\n",
       "        text-align: right;\n",
       "    }\n",
       "</style>\n",
       "<table border=\"1\" class=\"dataframe\">\n",
       "  <thead>\n",
       "    <tr style=\"text-align: right;\">\n",
       "      <th></th>\n",
       "      <th>Age</th>\n",
       "      <th>OrderMonth</th>\n",
       "      <th>ProductCost</th>\n",
       "      <th>PurchasePrice</th>\n",
       "      <th>ProductSize_L</th>\n",
       "      <th>ProductSize_M</th>\n",
       "      <th>ProductSize_S</th>\n",
       "      <th>ProductSize_XL</th>\n",
       "      <th>ProductSize_XS</th>\n",
       "      <th>ProductSize_XXL</th>\n",
       "      <th>ProductSize_~</th>\n",
       "      <th>ProductDepartment_Accessories</th>\n",
       "      <th>ProductDepartment_Mens</th>\n",
       "      <th>ProductDepartment_Womens</th>\n",
       "      <th>ProductDepartment_Youth</th>\n",
       "      <th>Returned</th>\n",
       "    </tr>\n",
       "  </thead>\n",
       "  <tbody>\n",
       "    <tr>\n",
       "      <th>0</th>\n",
       "      <td>49</td>\n",
       "      <td>1</td>\n",
       "      <td>9</td>\n",
       "      <td>28.93</td>\n",
       "      <td>0.0</td>\n",
       "      <td>1.0</td>\n",
       "      <td>0.0</td>\n",
       "      <td>0.0</td>\n",
       "      <td>0.0</td>\n",
       "      <td>0.0</td>\n",
       "      <td>0.0</td>\n",
       "      <td>0.0</td>\n",
       "      <td>0.0</td>\n",
       "      <td>0.0</td>\n",
       "      <td>1.0</td>\n",
       "      <td>0</td>\n",
       "    </tr>\n",
       "    <tr>\n",
       "      <th>1</th>\n",
       "      <td>49</td>\n",
       "      <td>1</td>\n",
       "      <td>17</td>\n",
       "      <td>44.92</td>\n",
       "      <td>1.0</td>\n",
       "      <td>0.0</td>\n",
       "      <td>0.0</td>\n",
       "      <td>0.0</td>\n",
       "      <td>0.0</td>\n",
       "      <td>0.0</td>\n",
       "      <td>0.0</td>\n",
       "      <td>0.0</td>\n",
       "      <td>1.0</td>\n",
       "      <td>0.0</td>\n",
       "      <td>0.0</td>\n",
       "      <td>0</td>\n",
       "    </tr>\n",
       "    <tr>\n",
       "      <th>2</th>\n",
       "      <td>49</td>\n",
       "      <td>1</td>\n",
       "      <td>20</td>\n",
       "      <td>48.98</td>\n",
       "      <td>0.0</td>\n",
       "      <td>0.0</td>\n",
       "      <td>0.0</td>\n",
       "      <td>1.0</td>\n",
       "      <td>0.0</td>\n",
       "      <td>0.0</td>\n",
       "      <td>0.0</td>\n",
       "      <td>0.0</td>\n",
       "      <td>1.0</td>\n",
       "      <td>0.0</td>\n",
       "      <td>0.0</td>\n",
       "      <td>0</td>\n",
       "    </tr>\n",
       "    <tr>\n",
       "      <th>3</th>\n",
       "      <td>49</td>\n",
       "      <td>1</td>\n",
       "      <td>17</td>\n",
       "      <td>51.37</td>\n",
       "      <td>1.0</td>\n",
       "      <td>0.0</td>\n",
       "      <td>0.0</td>\n",
       "      <td>0.0</td>\n",
       "      <td>0.0</td>\n",
       "      <td>0.0</td>\n",
       "      <td>0.0</td>\n",
       "      <td>0.0</td>\n",
       "      <td>1.0</td>\n",
       "      <td>0.0</td>\n",
       "      <td>0.0</td>\n",
       "      <td>0</td>\n",
       "    </tr>\n",
       "    <tr>\n",
       "      <th>4</th>\n",
       "      <td>37</td>\n",
       "      <td>1</td>\n",
       "      <td>42</td>\n",
       "      <td>113.91</td>\n",
       "      <td>0.0</td>\n",
       "      <td>0.0</td>\n",
       "      <td>0.0</td>\n",
       "      <td>0.0</td>\n",
       "      <td>1.0</td>\n",
       "      <td>0.0</td>\n",
       "      <td>0.0</td>\n",
       "      <td>0.0</td>\n",
       "      <td>0.0</td>\n",
       "      <td>1.0</td>\n",
       "      <td>0.0</td>\n",
       "      <td>0</td>\n",
       "    </tr>\n",
       "  </tbody>\n",
       "</table>\n",
       "</div>"
      ],
      "text/plain": [
       "   Age  OrderMonth  ProductCost  PurchasePrice  ProductSize_L  ProductSize_M  \\\n",
       "0   49           1            9          28.93            0.0            1.0   \n",
       "1   49           1           17          44.92            1.0            0.0   \n",
       "2   49           1           20          48.98            0.0            0.0   \n",
       "3   49           1           17          51.37            1.0            0.0   \n",
       "4   37           1           42         113.91            0.0            0.0   \n",
       "\n",
       "   ProductSize_S  ProductSize_XL  ProductSize_XS  ProductSize_XXL  \\\n",
       "0            0.0             0.0             0.0              0.0   \n",
       "1            0.0             0.0             0.0              0.0   \n",
       "2            0.0             1.0             0.0              0.0   \n",
       "3            0.0             0.0             0.0              0.0   \n",
       "4            0.0             0.0             1.0              0.0   \n",
       "\n",
       "   ProductSize_~  ProductDepartment_Accessories  ProductDepartment_Mens  \\\n",
       "0            0.0                            0.0                     0.0   \n",
       "1            0.0                            0.0                     1.0   \n",
       "2            0.0                            0.0                     1.0   \n",
       "3            0.0                            0.0                     1.0   \n",
       "4            0.0                            0.0                     0.0   \n",
       "\n",
       "   ProductDepartment_Womens  ProductDepartment_Youth  Returned  \n",
       "0                       0.0                      1.0         0  \n",
       "1                       0.0                      0.0         0  \n",
       "2                       0.0                      0.0         0  \n",
       "3                       0.0                      0.0         0  \n",
       "4                       1.0                      0.0         0  "
      ]
     },
     "execution_count": 8,
     "metadata": {},
     "output_type": "execute_result"
    }
   ],
   "source": [
    "#Build the features\n",
    "\n",
    "from sklearn.preprocessing import OneHotEncoder\n",
    "\n",
    "dftest = pd.DataFrame()\n",
    "\n",
    "dftest['Age'] = train['Age']\n",
    "dftest['OrderMonth'] = train['OrderDate'].dt.month\n",
    "dftest['ProductDepartment'] = train['ProductDepartment']\n",
    "dftest['ProductSize'] = train['ProductSize']\n",
    "dftest['ProductCost'] = train['ProductCost']\n",
    "dftest['PurchasePrice'] = train['PurchasePrice']\n",
    "\n",
    "\n",
    "#Turn the categorical variables into numerical variables for the ML algorithms\n",
    "column = 'ProductSize'\n",
    "encoder = OneHotEncoder()\n",
    "onehotarray = encoder.fit_transform(dftest[['ProductSize']]).toarray()\n",
    "items = [f'{column}_{item}' for item in encoder.categories_[0]]\n",
    "dftest[items] = onehotarray\n",
    "\n",
    "column = 'ProductDepartment'\n",
    "onehotarray = encoder.fit_transform(dftest[['ProductDepartment']]).toarray()\n",
    "items = [f'{column}_{item}' for item in encoder.categories_[0]]\n",
    "dftest[items] = onehotarray\n",
    "\n",
    "dftest.drop(['ProductDepartment', 'ProductSize'], axis=1, inplace=True)\n",
    "\n",
    "dftest['Returned'] = train['Returned']\n",
    "\n",
    "#Quick look at dataframe\n",
    "dftest.head()"
   ]
  },
  {
   "cell_type": "markdown",
   "id": "c802eca2",
   "metadata": {},
   "source": [
    "# Evaluation"
   ]
  },
  {
   "cell_type": "code",
   "execution_count": 9,
   "id": "b7e306bb",
   "metadata": {},
   "outputs": [
    {
     "name": "stdout",
     "output_type": "stream",
     "text": [
      "(51929, 15) (12983, 15) (51929,) (12983,)\n"
     ]
    }
   ],
   "source": [
    "#Normalize and split data\n",
    "from sklearn.model_selection import train_test_split\n",
    "\n",
    "x = dftest[dftest.columns[:-1]].values\n",
    "y = dftest['Returned'].values\n",
    "\n",
    "#Leave 20% for testing\n",
    "X_train, X_test, y_train, y_test = train_test_split(x, y, test_size = 0.2, random_state = 2)\n",
    "\n",
    "#minmax scale\n",
    "mins = X_train.min(axis =0)\n",
    "maxs = X_train.max(axis=0)\n",
    "\n",
    "X_train = (X_train - mins) / (maxs-mins)\n",
    "X_test = (X_test - mins) / (maxs-mins)\n",
    "\n",
    "\n",
    "print(X_train.shape, X_test.shape, y_train.shape, y_test.shape)"
   ]
  },
  {
   "cell_type": "markdown",
   "id": "2ffa1ed3",
   "metadata": {},
   "source": [
    "Run different models and score performance."
   ]
  },
  {
   "cell_type": "code",
   "execution_count": 10,
   "id": "73ec2851",
   "metadata": {},
   "outputs": [
    {
     "data": {
      "text/plain": [
       "0.6461526611723022"
      ]
     },
     "execution_count": 10,
     "metadata": {},
     "output_type": "execute_result"
    }
   ],
   "source": [
    "from sklearn.linear_model import LogisticRegression\n",
    "\n",
    "model = LogisticRegression(random_state = 1)\n",
    "model = model.fit(X_train, y_train)\n",
    "model.score(X_test, y_test)"
   ]
  },
  {
   "cell_type": "code",
   "execution_count": 11,
   "id": "c0091772",
   "metadata": {},
   "outputs": [
    {
     "data": {
      "text/plain": [
       "0.6453824231687592"
      ]
     },
     "execution_count": 11,
     "metadata": {},
     "output_type": "execute_result"
    }
   ],
   "source": [
    "import xgboost as xgb\n",
    "\n",
    "model = xgb.XGBClassifier(learning_rate = 0.1, colsample_bytree = 1, min_child_weight = 1, max_depth = 2, n_estimators = 100)\n",
    "model = model.fit(X_train, y_train)\n",
    "model.score(X_test, y_test)"
   ]
  },
  {
   "cell_type": "code",
   "execution_count": 12,
   "id": "ce11e5f5",
   "metadata": {},
   "outputs": [
    {
     "data": {
      "text/plain": [
       "0.6365246861280136"
      ]
     },
     "execution_count": 12,
     "metadata": {},
     "output_type": "execute_result"
    }
   ],
   "source": [
    "from sklearn.ensemble import RandomForestClassifier\n",
    "\n",
    "model = RandomForestClassifier(random_state = 1)\n",
    "model = model.fit(X_train, y_train)\n",
    "model.score(X_test, y_test)"
   ]
  },
  {
   "cell_type": "markdown",
   "id": "07ff4e09",
   "metadata": {},
   "source": [
    "# Predict for the actual test data"
   ]
  },
  {
   "cell_type": "code",
   "execution_count": 13,
   "id": "66bc7422",
   "metadata": {},
   "outputs": [
    {
     "data": {
      "text/html": [
       "<div>\n",
       "<style scoped>\n",
       "    .dataframe tbody tr th:only-of-type {\n",
       "        vertical-align: middle;\n",
       "    }\n",
       "\n",
       "    .dataframe tbody tr th {\n",
       "        vertical-align: top;\n",
       "    }\n",
       "\n",
       "    .dataframe thead th {\n",
       "        text-align: right;\n",
       "    }\n",
       "</style>\n",
       "<table border=\"1\" class=\"dataframe\">\n",
       "  <thead>\n",
       "    <tr style=\"text-align: right;\">\n",
       "      <th></th>\n",
       "      <th>ID</th>\n",
       "      <th>OrderID</th>\n",
       "      <th>CustomerID</th>\n",
       "      <th>CustomerState</th>\n",
       "      <th>CustomerBirthDate</th>\n",
       "      <th>OrderDate</th>\n",
       "      <th>ProductDepartment</th>\n",
       "      <th>ProductSize</th>\n",
       "      <th>ProductCost</th>\n",
       "      <th>DiscountPct</th>\n",
       "      <th>PurchasePrice</th>\n",
       "      <th>Returned</th>\n",
       "    </tr>\n",
       "  </thead>\n",
       "  <tbody>\n",
       "    <tr>\n",
       "      <th>0</th>\n",
       "      <td>a6f6ecd9-2c08-4363-baf7-b54adc35d486</td>\n",
       "      <td>ad944d45-a857-4156-ac31-6d0eeb8a4bb7</td>\n",
       "      <td>49d38db8-e5f6-45a6-bbc1-6c6ed1f0214d</td>\n",
       "      <td>South Carolina</td>\n",
       "      <td>1976-10-21</td>\n",
       "      <td>2021-01-01</td>\n",
       "      <td>Accessories</td>\n",
       "      <td>~</td>\n",
       "      <td>19</td>\n",
       "      <td>0.2414</td>\n",
       "      <td>34.14</td>\n",
       "      <td>NaN</td>\n",
       "    </tr>\n",
       "    <tr>\n",
       "      <th>1</th>\n",
       "      <td>e819be63-7a98-4e6d-b217-03f9ac8c1d03</td>\n",
       "      <td>cefde178-45a0-406f-becf-31c003430d6f</td>\n",
       "      <td>65d3e42c-158f-4104-8dd2-cd8d1379ecf1</td>\n",
       "      <td>California</td>\n",
       "      <td>1961-10-31</td>\n",
       "      <td>2021-01-01</td>\n",
       "      <td>Mens</td>\n",
       "      <td>M</td>\n",
       "      <td>28</td>\n",
       "      <td>0.2771</td>\n",
       "      <td>73.74</td>\n",
       "      <td>NaN</td>\n",
       "    </tr>\n",
       "    <tr>\n",
       "      <th>2</th>\n",
       "      <td>8936a1c6-f5eb-4c78-9636-e693aae49d9f</td>\n",
       "      <td>24d7df06-80b2-416d-85e7-0ce8bd442b3f</td>\n",
       "      <td>5341a19e-27dd-42f9-8f8d-bbb76df99e71</td>\n",
       "      <td>Indiana</td>\n",
       "      <td>1953-11-03</td>\n",
       "      <td>2021-01-01</td>\n",
       "      <td>Womens</td>\n",
       "      <td>XXL</td>\n",
       "      <td>21</td>\n",
       "      <td>0.2665</td>\n",
       "      <td>35.21</td>\n",
       "      <td>NaN</td>\n",
       "    </tr>\n",
       "    <tr>\n",
       "      <th>3</th>\n",
       "      <td>68b74b1d-deab-4d93-bfe8-859d450952ef</td>\n",
       "      <td>24d7df06-80b2-416d-85e7-0ce8bd442b3f</td>\n",
       "      <td>5341a19e-27dd-42f9-8f8d-bbb76df99e71</td>\n",
       "      <td>Indiana</td>\n",
       "      <td>1953-11-03</td>\n",
       "      <td>2021-01-01</td>\n",
       "      <td>Womens</td>\n",
       "      <td>XXL</td>\n",
       "      <td>23</td>\n",
       "      <td>0.2305</td>\n",
       "      <td>70.79</td>\n",
       "      <td>NaN</td>\n",
       "    </tr>\n",
       "    <tr>\n",
       "      <th>4</th>\n",
       "      <td>657abc10-0b36-49df-b3ae-a1a6b9d1d145</td>\n",
       "      <td>086b01d2-8ab8-424d-8494-284cea56ae92</td>\n",
       "      <td>9efd2c6d-fa30-442a-a99a-d5bb2f284bf6</td>\n",
       "      <td>Oregon</td>\n",
       "      <td>1966-01-10</td>\n",
       "      <td>2021-01-01</td>\n",
       "      <td>Accessories</td>\n",
       "      <td>~</td>\n",
       "      <td>13</td>\n",
       "      <td>0.2621</td>\n",
       "      <td>30.99</td>\n",
       "      <td>NaN</td>\n",
       "    </tr>\n",
       "  </tbody>\n",
       "</table>\n",
       "</div>"
      ],
      "text/plain": [
       "                                     ID                               OrderID  \\\n",
       "0  a6f6ecd9-2c08-4363-baf7-b54adc35d486  ad944d45-a857-4156-ac31-6d0eeb8a4bb7   \n",
       "1  e819be63-7a98-4e6d-b217-03f9ac8c1d03  cefde178-45a0-406f-becf-31c003430d6f   \n",
       "2  8936a1c6-f5eb-4c78-9636-e693aae49d9f  24d7df06-80b2-416d-85e7-0ce8bd442b3f   \n",
       "3  68b74b1d-deab-4d93-bfe8-859d450952ef  24d7df06-80b2-416d-85e7-0ce8bd442b3f   \n",
       "4  657abc10-0b36-49df-b3ae-a1a6b9d1d145  086b01d2-8ab8-424d-8494-284cea56ae92   \n",
       "\n",
       "                             CustomerID   CustomerState CustomerBirthDate  \\\n",
       "0  49d38db8-e5f6-45a6-bbc1-6c6ed1f0214d  South Carolina        1976-10-21   \n",
       "1  65d3e42c-158f-4104-8dd2-cd8d1379ecf1      California        1961-10-31   \n",
       "2  5341a19e-27dd-42f9-8f8d-bbb76df99e71         Indiana        1953-11-03   \n",
       "3  5341a19e-27dd-42f9-8f8d-bbb76df99e71         Indiana        1953-11-03   \n",
       "4  9efd2c6d-fa30-442a-a99a-d5bb2f284bf6          Oregon        1966-01-10   \n",
       "\n",
       "    OrderDate ProductDepartment ProductSize  ProductCost  DiscountPct  \\\n",
       "0  2021-01-01       Accessories           ~           19       0.2414   \n",
       "1  2021-01-01              Mens           M           28       0.2771   \n",
       "2  2021-01-01            Womens         XXL           21       0.2665   \n",
       "3  2021-01-01            Womens         XXL           23       0.2305   \n",
       "4  2021-01-01       Accessories           ~           13       0.2621   \n",
       "\n",
       "   PurchasePrice  Returned  \n",
       "0          34.14       NaN  \n",
       "1          73.74       NaN  \n",
       "2          35.21       NaN  \n",
       "3          70.79       NaN  \n",
       "4          30.99       NaN  "
      ]
     },
     "execution_count": 13,
     "metadata": {},
     "output_type": "execute_result"
    }
   ],
   "source": [
    "#Quick look at test data\n",
    "test.head()"
   ]
  },
  {
   "cell_type": "code",
   "execution_count": 14,
   "id": "26b55ef4",
   "metadata": {},
   "outputs": [
    {
     "data": {
      "text/html": [
       "<div>\n",
       "<style scoped>\n",
       "    .dataframe tbody tr th:only-of-type {\n",
       "        vertical-align: middle;\n",
       "    }\n",
       "\n",
       "    .dataframe tbody tr th {\n",
       "        vertical-align: top;\n",
       "    }\n",
       "\n",
       "    .dataframe thead th {\n",
       "        text-align: right;\n",
       "    }\n",
       "</style>\n",
       "<table border=\"1\" class=\"dataframe\">\n",
       "  <thead>\n",
       "    <tr style=\"text-align: right;\">\n",
       "      <th></th>\n",
       "      <th>Age</th>\n",
       "      <th>OrderMonth</th>\n",
       "      <th>ProductCost</th>\n",
       "      <th>PurchasePrice</th>\n",
       "      <th>ProductSize_L</th>\n",
       "      <th>ProductSize_M</th>\n",
       "      <th>ProductSize_S</th>\n",
       "      <th>ProductSize_XL</th>\n",
       "      <th>ProductSize_XS</th>\n",
       "      <th>ProductSize_XXL</th>\n",
       "      <th>ProductSize_~</th>\n",
       "      <th>ProductDepartment_Accessories</th>\n",
       "      <th>ProductDepartment_Mens</th>\n",
       "      <th>ProductDepartment_Womens</th>\n",
       "      <th>ProductDepartment_Youth</th>\n",
       "    </tr>\n",
       "  </thead>\n",
       "  <tbody>\n",
       "    <tr>\n",
       "      <th>0</th>\n",
       "      <td>44</td>\n",
       "      <td>1</td>\n",
       "      <td>19</td>\n",
       "      <td>34.14</td>\n",
       "      <td>0.0</td>\n",
       "      <td>0.0</td>\n",
       "      <td>0.0</td>\n",
       "      <td>0.0</td>\n",
       "      <td>0.0</td>\n",
       "      <td>0.0</td>\n",
       "      <td>1.0</td>\n",
       "      <td>1.0</td>\n",
       "      <td>0.0</td>\n",
       "      <td>0.0</td>\n",
       "      <td>0.0</td>\n",
       "    </tr>\n",
       "    <tr>\n",
       "      <th>1</th>\n",
       "      <td>59</td>\n",
       "      <td>1</td>\n",
       "      <td>28</td>\n",
       "      <td>73.74</td>\n",
       "      <td>0.0</td>\n",
       "      <td>1.0</td>\n",
       "      <td>0.0</td>\n",
       "      <td>0.0</td>\n",
       "      <td>0.0</td>\n",
       "      <td>0.0</td>\n",
       "      <td>0.0</td>\n",
       "      <td>0.0</td>\n",
       "      <td>1.0</td>\n",
       "      <td>0.0</td>\n",
       "      <td>0.0</td>\n",
       "    </tr>\n",
       "    <tr>\n",
       "      <th>2</th>\n",
       "      <td>67</td>\n",
       "      <td>1</td>\n",
       "      <td>21</td>\n",
       "      <td>35.21</td>\n",
       "      <td>0.0</td>\n",
       "      <td>0.0</td>\n",
       "      <td>0.0</td>\n",
       "      <td>0.0</td>\n",
       "      <td>0.0</td>\n",
       "      <td>1.0</td>\n",
       "      <td>0.0</td>\n",
       "      <td>0.0</td>\n",
       "      <td>0.0</td>\n",
       "      <td>1.0</td>\n",
       "      <td>0.0</td>\n",
       "    </tr>\n",
       "    <tr>\n",
       "      <th>3</th>\n",
       "      <td>67</td>\n",
       "      <td>1</td>\n",
       "      <td>23</td>\n",
       "      <td>70.79</td>\n",
       "      <td>0.0</td>\n",
       "      <td>0.0</td>\n",
       "      <td>0.0</td>\n",
       "      <td>0.0</td>\n",
       "      <td>0.0</td>\n",
       "      <td>1.0</td>\n",
       "      <td>0.0</td>\n",
       "      <td>0.0</td>\n",
       "      <td>0.0</td>\n",
       "      <td>1.0</td>\n",
       "      <td>0.0</td>\n",
       "    </tr>\n",
       "    <tr>\n",
       "      <th>4</th>\n",
       "      <td>54</td>\n",
       "      <td>1</td>\n",
       "      <td>13</td>\n",
       "      <td>30.99</td>\n",
       "      <td>0.0</td>\n",
       "      <td>0.0</td>\n",
       "      <td>0.0</td>\n",
       "      <td>0.0</td>\n",
       "      <td>0.0</td>\n",
       "      <td>0.0</td>\n",
       "      <td>1.0</td>\n",
       "      <td>1.0</td>\n",
       "      <td>0.0</td>\n",
       "      <td>0.0</td>\n",
       "      <td>0.0</td>\n",
       "    </tr>\n",
       "  </tbody>\n",
       "</table>\n",
       "</div>"
      ],
      "text/plain": [
       "   Age  OrderMonth  ProductCost  PurchasePrice  ProductSize_L  ProductSize_M  \\\n",
       "0   44           1           19          34.14            0.0            0.0   \n",
       "1   59           1           28          73.74            0.0            1.0   \n",
       "2   67           1           21          35.21            0.0            0.0   \n",
       "3   67           1           23          70.79            0.0            0.0   \n",
       "4   54           1           13          30.99            0.0            0.0   \n",
       "\n",
       "   ProductSize_S  ProductSize_XL  ProductSize_XS  ProductSize_XXL  \\\n",
       "0            0.0             0.0             0.0              0.0   \n",
       "1            0.0             0.0             0.0              0.0   \n",
       "2            0.0             0.0             0.0              1.0   \n",
       "3            0.0             0.0             0.0              1.0   \n",
       "4            0.0             0.0             0.0              0.0   \n",
       "\n",
       "   ProductSize_~  ProductDepartment_Accessories  ProductDepartment_Mens  \\\n",
       "0            1.0                            1.0                     0.0   \n",
       "1            0.0                            0.0                     1.0   \n",
       "2            0.0                            0.0                     0.0   \n",
       "3            0.0                            0.0                     0.0   \n",
       "4            1.0                            1.0                     0.0   \n",
       "\n",
       "   ProductDepartment_Womens  ProductDepartment_Youth  \n",
       "0                       0.0                      0.0  \n",
       "1                       0.0                      0.0  \n",
       "2                       1.0                      0.0  \n",
       "3                       1.0                      0.0  \n",
       "4                       0.0                      0.0  "
      ]
     },
     "execution_count": 14,
     "metadata": {},
     "output_type": "execute_result"
    }
   ],
   "source": [
    "#Build same features\n",
    "dftest1 = pd.DataFrame()\n",
    "\n",
    "#Add age as a column\n",
    "test['OrderDate']= pd.to_datetime(test['OrderDate'])\n",
    "test['CustomerBirthDate']= pd.to_datetime(test['CustomerBirthDate'])\n",
    "test['Age'] = test['OrderDate'] - test['CustomerBirthDate']\n",
    "test['Age'] = test['Age'] / np.timedelta64(1, 'Y')\n",
    "test['Age'] = test['Age'].astype('int')\n",
    "\n",
    "#Features build\n",
    "dftest1['Age'] = test['Age']\n",
    "dftest1['OrderMonth'] = test['OrderDate'].dt.month\n",
    "dftest1['ProductDepartment'] = test['ProductDepartment']\n",
    "dftest1['ProductSize'] = test['ProductSize']\n",
    "dftest1['ProductCost'] = test['ProductCost']\n",
    "dftest1['PurchasePrice'] = test['PurchasePrice']\n",
    "\n",
    "#Convert categorical variables to numerical\n",
    "column = 'ProductSize'\n",
    "encoder = OneHotEncoder()\n",
    "onehotarray = encoder.fit_transform(dftest1[['ProductSize']]).toarray()\n",
    "items = [f'{column}_{item}' for item in encoder.categories_[0]]\n",
    "dftest1[items] = onehotarray\n",
    "\n",
    "column = 'ProductDepartment'\n",
    "onehotarray = encoder.fit_transform(dftest1[['ProductDepartment']]).toarray()\n",
    "items = [f'{column}_{item}' for item in encoder.categories_[0]]\n",
    "dftest1[items] = onehotarray\n",
    "\n",
    "dftest1.drop(['ProductDepartment', 'ProductSize'], axis=1, inplace=True)\n",
    "\n",
    "#Check dataframe\n",
    "dftest1.head()"
   ]
  },
  {
   "cell_type": "code",
   "execution_count": 15,
   "id": "1693bdf7",
   "metadata": {},
   "outputs": [
    {
     "name": "stdout",
     "output_type": "stream",
     "text": [
      "(14809, 15)\n"
     ]
    }
   ],
   "source": [
    "#minmax scale\n",
    "from sklearn.preprocessing import MinMaxScaler\n",
    "\n",
    "scaler = MinMaxScaler()\n",
    "scaled = scaler.fit_transform(dftest1)\n",
    "\n",
    "print(scaled.shape)"
   ]
  },
  {
   "cell_type": "markdown",
   "id": "8e4313ed",
   "metadata": {},
   "source": [
    "Logistic Regression scored the best for the training data so that is what I will use for the predictions."
   ]
  },
  {
   "cell_type": "code",
   "execution_count": 17,
   "id": "8254f84a",
   "metadata": {},
   "outputs": [
    {
     "data": {
      "text/plain": [
       "array([[0.8921231 , 0.1078769 ],\n",
       "       [0.64918472, 0.35081528],\n",
       "       [0.6145154 , 0.3854846 ],\n",
       "       ...,\n",
       "       [0.61810984, 0.38189016],\n",
       "       [0.60403306, 0.39596694],\n",
       "       [0.61030325, 0.38969675]])"
      ]
     },
     "metadata": {},
     "output_type": "display_data"
    }
   ],
   "source": [
    "from sklearn.linear_model import LogisticRegression\n",
    "\n",
    "model = LogisticRegression(random_state = 1)\n",
    "model = model.fit(X_train, y_train)\n",
    "preds = model.predict_proba(scaled)\n",
    "display(preds)"
   ]
  },
  {
   "cell_type": "markdown",
   "id": "b8a2b9bf",
   "metadata": {},
   "source": [
    "The array shows the predicted probability for the class of 0(not returned) and 1(returned). Either column will work but the second one is what we're looking for."
   ]
  },
  {
   "cell_type": "code",
   "execution_count": 18,
   "id": "f4c029b0",
   "metadata": {},
   "outputs": [
    {
     "data": {
      "text/html": [
       "<div>\n",
       "<style scoped>\n",
       "    .dataframe tbody tr th:only-of-type {\n",
       "        vertical-align: middle;\n",
       "    }\n",
       "\n",
       "    .dataframe tbody tr th {\n",
       "        vertical-align: top;\n",
       "    }\n",
       "\n",
       "    .dataframe thead th {\n",
       "        text-align: right;\n",
       "    }\n",
       "</style>\n",
       "<table border=\"1\" class=\"dataframe\">\n",
       "  <thead>\n",
       "    <tr style=\"text-align: right;\">\n",
       "      <th></th>\n",
       "      <th>ID</th>\n",
       "      <th>Prediction</th>\n",
       "    </tr>\n",
       "  </thead>\n",
       "  <tbody>\n",
       "    <tr>\n",
       "      <th>0</th>\n",
       "      <td>ad944d45-a857-4156-ac31-6d0eeb8a4bb7</td>\n",
       "      <td>0.107877</td>\n",
       "    </tr>\n",
       "    <tr>\n",
       "      <th>1</th>\n",
       "      <td>cefde178-45a0-406f-becf-31c003430d6f</td>\n",
       "      <td>0.350815</td>\n",
       "    </tr>\n",
       "    <tr>\n",
       "      <th>2</th>\n",
       "      <td>24d7df06-80b2-416d-85e7-0ce8bd442b3f</td>\n",
       "      <td>0.385485</td>\n",
       "    </tr>\n",
       "    <tr>\n",
       "      <th>3</th>\n",
       "      <td>24d7df06-80b2-416d-85e7-0ce8bd442b3f</td>\n",
       "      <td>0.401255</td>\n",
       "    </tr>\n",
       "    <tr>\n",
       "      <th>4</th>\n",
       "      <td>086b01d2-8ab8-424d-8494-284cea56ae92</td>\n",
       "      <td>0.116301</td>\n",
       "    </tr>\n",
       "  </tbody>\n",
       "</table>\n",
       "</div>"
      ],
      "text/plain": [
       "                                     ID  Prediction\n",
       "0  ad944d45-a857-4156-ac31-6d0eeb8a4bb7    0.107877\n",
       "1  cefde178-45a0-406f-becf-31c003430d6f    0.350815\n",
       "2  24d7df06-80b2-416d-85e7-0ce8bd442b3f    0.385485\n",
       "3  24d7df06-80b2-416d-85e7-0ce8bd442b3f    0.401255\n",
       "4  086b01d2-8ab8-424d-8494-284cea56ae92    0.116301"
      ]
     },
     "execution_count": 18,
     "metadata": {},
     "output_type": "execute_result"
    }
   ],
   "source": [
    "finalpreds = pd.DataFrame ()\n",
    "finalpreds['ID'] = test['OrderID']\n",
    "finalpreds['Prediction'] = preds[:,1]\n",
    "finalpreds.head()"
   ]
  },
  {
   "cell_type": "code",
   "execution_count": 19,
   "id": "43f14728",
   "metadata": {},
   "outputs": [],
   "source": [
    "finalpreds.to_csv(\"finalpreds.csv\")"
   ]
  },
  {
   "cell_type": "markdown",
   "id": "9374eab4",
   "metadata": {},
   "source": [
    ""
   ]
  },
  {
   "cell_type": "markdown",
   "id": "ad8a7801",
   "metadata": {},
   "source": [
    ""
   ]
  },
  {
   "cell_type": "code",
   "execution_count": null,
   "id": "5cf922dd",
   "metadata": {},
   "outputs": [],
   "source": []
  }
 ],
 "metadata": {
  "kernelspec": {
   "display_name": "Python 3",
   "language": "python",
   "name": "python3"
  },
  "language_info": {
   "codemirror_mode": {
    "name": "ipython",
    "version": 3
   },
   "file_extension": ".py",
   "mimetype": "text/x-python",
   "name": "python",
   "nbconvert_exporter": "python",
   "pygments_lexer": "ipython3",
   "version": "3.8.8"
  }
 },
 "nbformat": 4,
 "nbformat_minor": 5
}
